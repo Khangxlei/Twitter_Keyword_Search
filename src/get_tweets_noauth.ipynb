import tweepy
import webbrowser
import time
import pandas as pd
#Authentication script
consumer_key = "" #Requires dev account
consumer_secret = "" #Requires dev account
callback_uri = 'oob'
auth = tweepy.OAuth1UserHandler(consumer_key, consumer_secret, callback_uri)
redirect_url = auth.get_authorization_url()
print(redirect_url)
webbrowser.open(redirect_url)
user_pint_input = input("What is the pin value? ") #User pin input
auth.get_access_token(user_pint_input)
print(auth.access_token, auth.access_token_secret) 
api = tweepy.API(auth)

def get_tweets(key_word):
    twitter_usernames = []
    tweet_time = []
    tweet_string = []

    max_tweets = 1000
    tweet_count = 0

    for tweet in tweepy.Cursor(api.search_tweets, q=key_word, count=100).items():
        # No retweets
        if (not tweet.retweeted) and ('RT @' not in tweet.text):
            # Only English
            if tweet.lang == "en":
                twitter_usernames.append(tweet.user.name)
                # Date and Time
                tweet_time.append(tweet.created_at)
                # Tweet text
                tweet_string.append(tweet.text)
                print([tweet.user.name, tweet.created_at, tweet.text])
                tweet_count += 1

        # Break the loop when the desired number of tweets is reached
        if tweet_count >= max_tweets:
            break

    # Pandas dataframe
    df = pd.DataFrame({'name': twitter_usernames, 'time': tweet_time, 'tweet': tweet_string})

    # Write to a formatted text file
    with open('tweets.txt', 'w', encoding='utf-8') as f:
        for index, row in df.iterrows():
            #f.write(f"Username: {row['name']}\n")
            #f.write(f"Time: {row['time']}\n")
            f.write(f"Tweet: {row['tweet']}\n")
            f.write("\n---\n\n")

    return df